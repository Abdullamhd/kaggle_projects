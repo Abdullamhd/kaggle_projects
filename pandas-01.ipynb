{
 "cells": [
  {
   "cell_type": "code",
   "execution_count": null,
   "metadata": {},
   "outputs": [],
   "source": [
    "import pandas as pd "
   ]
  },
  {
   "cell_type": "code",
   "execution_count": null,
   "metadata": {},
   "outputs": [],
   "source": [
    "ser = pd.Series([1,2,3,4,5])\n",
    "ser"
   ]
  },
  {
   "cell_type": "code",
   "execution_count": null,
   "metadata": {},
   "outputs": [],
   "source": [
    "rev = pd.read_csv('winemag-data_first150k.csv')\n"
   ]
  },
  {
   "cell_type": "code",
   "execution_count": null,
   "metadata": {},
   "outputs": [],
   "source": [
    "rev.columns"
   ]
  },
  {
   "cell_type": "code",
   "execution_count": null,
   "metadata": {},
   "outputs": [],
   "source": [
    "rev.iloc[:,:]"
   ]
  },
  {
   "cell_type": "code",
   "execution_count": null,
   "metadata": {},
   "outputs": [],
   "source": [
    "rev.iloc[:3,0]"
   ]
  },
  {
   "cell_type": "code",
   "execution_count": null,
   "metadata": {},
   "outputs": [],
   "source": [
    "rev.iloc[1:3, 0]"
   ]
  },
  {
   "cell_type": "code",
   "execution_count": null,
   "metadata": {},
   "outputs": [],
   "source": [
    "rev.iloc[-5:1]"
   ]
  },
  {
   "cell_type": "code",
   "execution_count": null,
   "metadata": {},
   "outputs": [],
   "source": [
    "rev.head()"
   ]
  },
  {
   "cell_type": "code",
   "execution_count": null,
   "metadata": {},
   "outputs": [],
   "source": [
    "rev.loc[0,:]"
   ]
  },
  {
   "cell_type": "code",
   "execution_count": null,
   "metadata": {},
   "outputs": [],
   "source": [
    "ufo = pd.read_csv('http://bit.ly/ufooreports')"
   ]
  },
  {
   "cell_type": "code",
   "execution_count": 7,
   "metadata": {},
   "outputs": [
    {
     "name": "stdout",
     "output_type": "stream",
     "text": [
      "ref                                                          title                                                size  lastUpdated          downloadCount  voteCount  usabilityRating  \n",
      "-----------------------------------------------------------  --------------------------------------------------  -----  -------------------  -------------  ---------  ---------------  \n",
      "andrewmvd/fetal-health-classification                        Fetal Health Classification                          46KB  2020-10-12 00:05:48           8087        255  1.0              \n",
      "hhs/health-insurance-marketplace                             Health Insurance Marketplace                        829MB  2017-05-01 20:16:50          20144        530  0.7352941        \n",
      "anmolkumar/health-insurance-cross-sell-prediction            Health Insurance Cross Sell Prediction 🏠 🏥            6MB  2020-09-11 18:39:31          20542        564  1.0              \n",
      "osmi/mental-health-in-tech-survey                            Mental Health in Tech Survey                         49KB  2016-11-03 17:28:47          39980        834  0.88235295       \n",
      "hhs/health-insurance                                         Health Insurance Coverage                             3KB  2017-03-02 18:40:23           6568        110  0.85294116       \n",
      "rajanand/key-indicators-of-annual-health-survey              Health Analytics                                      1MB  2017-08-09 19:21:42           9427        217  0.7647059        \n",
      "citizen-ds-ghana/health-facilities-gh                        Ghana Health Facilities                              84KB  2018-09-03 01:19:24           3102         75  0.88235295       \n",
      "utkarshxy/who-worldhealth-statistics-2020-complete           World Health Statistics 2020|Complete|Geo-Analysis    1MB  2021-06-02 08:14:05          12458        748  1.0              \n",
      "mariaren/covid19-healthy-diet-dataset                        COVID-19 Healthy Diet Dataset                        82KB  2021-02-07 21:50:53          13684        344  1.0              \n",
      "shivan118/healthcare-analytics                               AV : Healthcare Analytics                             2MB  2020-09-13 17:40:05           6079        202  0.9411765        \n",
      "nehaprabhavalkar/av-healthcare-analytics-ii                  AV : Healthcare Analytics II                          7MB  2020-08-29 03:40:10           6676        215  1.0              \n",
      "nareshbhat/health-care-data-set-on-heart-attack-possibility  Health care: Heart attack possibility                 3KB  2020-06-25 07:11:26          15575        262  0.7058824        \n",
      "twinkle0705/mental-health-and-suicide-rates                  Mental Health and Suicide Rates                      21KB  2020-07-15 12:33:00           5021        120  1.0              \n",
      "anth7310/mental-health-in-the-tech-industry                  Mental Health in the Tech Industry                    2MB  2020-09-27 11:17:23           7697        224  0.9411765        \n",
      "danevans/world-bank-wdi-212-health-systems                   World Bank WDI 2.12 - Health Systems                  6KB  2020-03-29 19:00:14           4237        113  1.0              \n",
      "cdc/national-health-and-nutrition-examination-survey         National Health and Nutrition Examination Survey      7MB  2017-01-26 20:11:45          14120        290  0.7352941        \n",
      "cityofLA/la-restaurant-market-health-data                    LA Restaurant & Market Health Data                   12MB  2019-11-14 06:31:51           5590        143  0.7058824        \n",
      "teertha/ushealthinsurancedataset                             US Health Insurance Dataset                          16KB  2020-02-16 04:43:53           2911         46  0.9411765        \n",
      "theworldbank/health-nutrition-and-population-statistics      Health Nutrition and Population Statistics           14MB  2016-11-18 05:46:51          13378        215  0.5882353        \n",
      "bls/eating-health-module-dataset                             Eating & Health Module Dataset                        7MB  2019-11-17 22:13:15           5956        100  0.5882353        \n"
     ]
    }
   ],
   "source": [
    "!kaggle datasets list -s health"
   ]
  },
  {
   "cell_type": "code",
   "execution_count": null,
   "metadata": {},
   "outputs": [],
   "source": []
  }
 ],
 "metadata": {
  "interpreter": {
   "hash": "9fa8b399b575b07214a14e79ec6c60f0a511ea3ba888cd4633c1603067bbe680"
  },
  "kernelspec": {
   "display_name": "Python 3.9.7 64-bit ('keras': conda)",
   "language": "python",
   "name": "python3"
  },
  "language_info": {
   "codemirror_mode": {
    "name": "ipython",
    "version": 3
   },
   "file_extension": ".py",
   "mimetype": "text/x-python",
   "name": "python",
   "nbconvert_exporter": "python",
   "pygments_lexer": "ipython3",
   "version": "3.9.7"
  },
  "orig_nbformat": 4
 },
 "nbformat": 4,
 "nbformat_minor": 2
}
